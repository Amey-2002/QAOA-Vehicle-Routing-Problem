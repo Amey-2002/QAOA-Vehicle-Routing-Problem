{
 "cells": [
  {
   "cell_type": "markdown",
   "id": "9462093a",
   "metadata": {},
   "source": [
    "### Vehicle Routing Problem using QAOA"
   ]
  },
  {
   "cell_type": "code",
   "execution_count": 1,
   "id": "6de36393",
   "metadata": {},
   "outputs": [],
   "source": [
    "# importing required libraries\n",
    "import numpy as np\n",
    "import matplotlib.pyplot as plt\n",
    "import sys\n",
    "import operator"
   ]
  },
  {
   "cell_type": "code",
   "execution_count": 2,
   "id": "218d3f59",
   "metadata": {},
   "outputs": [],
   "source": [
    "#importing qiskit packages\n",
    "from qiskit import BasicAer\n",
    "from qiskit.quantum_info import Pauli\n",
    "from qiskit.utils import QuantumInstance, algorithm_globals\n",
    "from qiskit.algorithms import QAOA\n",
    "from qiskit_optimization import QuadraticProgram\n",
    "from qiskit_optimization.algorithms import MinimumEigenOptimizer"
   ]
  },
  {
   "cell_type": "code",
   "execution_count": 3,
   "id": "1a58d5a3",
   "metadata": {},
   "outputs": [],
   "source": [
    "#Setting values for given problem\n",
    "n = 4# Total number of nodes(In the problem, (number of delivery centres + 1 depot))\n",
    "veh = 2 # Total number of vehicles"
   ]
  },
  {
   "cell_type": "code",
   "execution_count": 4,
   "id": "7d3b5a85",
   "metadata": {},
   "outputs": [],
   "source": [
    "# randomnly placing nodes and computing distances between nodes\n",
    "\n",
    "np.random.seed(1543) \n",
    "x = (np.random.rand(n)-0.5)*10\n",
    "y = (np.random.rand(n)-0.5)*10\n",
    "\n",
    "matrix = np.zeros([n,n]) \n",
    "    \n",
    "# creating the distance matrix to indicate distances between individual nodes\n",
    "for i in range(n):\n",
    "    for j in range(i+1,n):\n",
    "        matrix[i,j] = (x[i]-x[j])**2 + (y[i]-y[j])**2\n",
    "        matrix[j,i] = matrix[i,j]\n",
    "# print(matrix)\n",
    "# print(x,y)"
   ]
  },
  {
   "cell_type": "code",
   "execution_count": 5,
   "id": "fb6e2820",
   "metadata": {},
   "outputs": [],
   "source": [
    "# encoding the problem into a QuadraticProgram instance\n",
    "def instance(n,veh,matrix,x_sol=0):\n",
    "    #parameter for cost function\n",
    "    A = np.max(matrix) * 100 \n",
    "\n",
    "    #defining weights w\n",
    "    matrix_vec = matrix.reshape(n ** 2)\n",
    "    w_list = [matrix_vec[x] for x in range(n ** 2) if matrix_vec[x] > 0]\n",
    "    w = np.zeros(n * (n - 1))\n",
    "    for i in range(len(w_list)):\n",
    "        w[i] = w_list[i]\n",
    "    \n",
    "    # print(matrix_vec)\n",
    "    # print(w)\n",
    "\n",
    "    #Finding the value of Q (Q defines the interactions between variables)\n",
    "    e1_id = np.eye(n)\n",
    "    e1_1 = np.ones([n-1,n-1])\n",
    "    e2 = np.ones(n)\n",
    "    e2_1 = np.ones(n-1)\n",
    "    e2[0]=0\n",
    "    neg_e2 = np.ones(n) - e2\n",
    "\n",
    "    v = np.zeros([n,n*(n-1)])\n",
    "    for i in range(n):\n",
    "            count = i - 1\n",
    "            for j in range(n * (n - 1)):\n",
    "\n",
    "                if j // (n - 1) == i:\n",
    "                    count = i\n",
    "\n",
    "                if j // (n - 1) != i and j % (n - 1) == count:\n",
    "                    v[i][j] = 1.0\n",
    "\n",
    "    # print(neg_e2)                    \n",
    "    #print(v)\n",
    "    v1 = np.sum(v[1:], axis=0)\n",
    "    #print(v1)\n",
    "    Q = A*(np.kron(e1_id,e1_1)) + np.dot(v.T,v)\n",
    "\n",
    "    #Finding the value of g\n",
    "    g = (w\n",
    "    - 2*A*(np.kron(e2,e2_1) + v1.T)\n",
    "    - 2*A*veh*(np.kron(neg_e2,e2_1) + v[0].T)\n",
    "    )\n",
    "\n",
    "    #Finding the value of c\n",
    "    c = 2 * A * (n-1) + 2 * A * (veh**2)\n",
    "\n",
    "    try:\n",
    "        #max(x_sol)\n",
    "        # Evaluates the cost distance from a binary representation of a path\n",
    "        fun = (\n",
    "            lambda x: np.dot(np.around(x), np.dot(Q, np.around(x)))\n",
    "            + np.dot(g, np.around(x))\n",
    "            + c\n",
    "            )\n",
    "        cost = fun(x_sol)\n",
    "    except:\n",
    "        cost = 0\n",
    "        \n",
    "    return Q,g,c,cost"
   ]
  },
  {
   "cell_type": "code",
   "execution_count": 6,
   "id": "d5308199",
   "metadata": {},
   "outputs": [],
   "source": [
    "#creating the QuadraticProgram instance using the above calculated values\n",
    "def q_program(n,veh,matrix,Q,g,c):\n",
    "    qp = QuadraticProgram()\n",
    "    for i in range(n*(n-1)):\n",
    "        qp.binary_var(str(i))\n",
    "    qp.objective.quadratic = Q\n",
    "    qp.objective.linear = g\n",
    "    qp.objective.constant = c\n",
    "    return qp"
   ]
  },
  {
   "cell_type": "code",
   "execution_count": 7,
   "id": "36bc348e",
   "metadata": {},
   "outputs": [],
   "source": [
    "#solving the problem using qiskit optimization techniques\n",
    "def solution(n,veh,matrix,qp):\n",
    "    algorithm_globals.random_seed = 10598\n",
    "    backend = BasicAer.get_backend('qasm_simulator')\n",
    "    quantum_instance = QuantumInstance(backend,\n",
    "                    seed_simulator = algorithm_globals.random_seed,\n",
    "                    seed_transpiler = algorithm_globals.random_seed\n",
    "                     )\n",
    "\n",
    "    qaoa = QAOA(quantum_instance=quantum_instance)\n",
    "    optimizer = MinimumEigenOptimizer(min_eigen_solver=qaoa)\n",
    "    result = optimizer.solve(qp)\n",
    "    _,_,_,cost = instance(n,veh,matrix,x_sol=result.x)\n",
    "    print(result)\n",
    "    print(result.x)\n",
    "    return result.x, cost"
   ]
  },
  {
   "cell_type": "code",
   "execution_count": 8,
   "id": "aea5ae33",
   "metadata": {
    "scrolled": true
   },
   "outputs": [
    {
     "name": "stdout",
     "output_type": "stream",
     "text": [
      "optimal function value: -81915.28116537273\n",
      "optimal value: [1. 1. 1. 1. 0. 1. 1. 1. 0. 1. 0. 1.]\n",
      "status: SUCCESS\n",
      "[1. 1. 1. 1. 0. 1. 1. 1. 0. 1. 0. 1.]\n"
     ]
    }
   ],
   "source": [
    "Q,g,c,cost=instance(n,veh,matrix)\n",
    "qp = q_program(n,veh,matrix,Q,g,c)\n",
    "quantum_solution, quantum_cost = solution(n,veh,matrix,qp)\n",
    "# print(qp)\n",
    "# print(quantum_cost)\n",
    "# print(cost)"
   ]
  },
  {
   "cell_type": "code",
   "execution_count": 9,
   "id": "3f85a61f",
   "metadata": {},
   "outputs": [
    {
     "name": "stdout",
     "output_type": "stream",
     "text": [
      "[1. 1. 1. 1. 0. 1. 1. 1. 0. 1. 0. 1.] -81915.28116537273\n"
     ]
    }
   ],
   "source": [
    "print(quantum_solution, quantum_cost)"
   ]
  },
  {
   "cell_type": "code",
   "execution_count": 10,
   "id": "2d651a91",
   "metadata": {},
   "outputs": [
    {
     "data": {
      "image/png": "[encoded data removed]",
      "text/plain": [
       "<Figure size 432x288 with 1 Axes>"
      ]
     },
     "metadata": {
      "needs_background": "light"
     },
     "output_type": "display_data"
    }
   ],
   "source": [
    "x_quantum = np.zeros(n**2)\n",
    "k = 0\n",
    "for i in range(n ** 2):\n",
    "    if i // n != i % n:\n",
    "        x_quantum[i] = quantum_solution[k]\n",
    "        k +=  1\n",
    "# Visualize the solution\n",
    "def visualize_solution(x, y, x_q, C, n, K, title_str):\n",
    "    plt.figure()\n",
    "    plt.scatter(x, y, s=200)\n",
    "    for i in range(len(x)):\n",
    "        plt.annotate(i, (x[i] + 0.15, y[i]), size=16, color='r')\n",
    "    plt.plot(x[0], y[0], 'r*', ms=20)\n",
    "\n",
    "    plt.grid()\n",
    "\n",
    "    for ii in range(0, n ** 2):\n",
    "\n",
    "        if x_q[ii] > 0:\n",
    "            ix = ii // n\n",
    "            iy = ii % n\n",
    "            plt.arrow(x[ix], y[ix], x[iy] - x[ix], y[iy] - y[ix], length_includes_head=True, head_width=.25)\n",
    "\n",
    "    plt.title(title_str+' cost = ' + str(int(C * 100) / 100.))\n",
    "    plt.show()\n",
    "visualize_solution(x, y, x_quantum, quantum_cost, n, veh, 'Quantum')"
   ]
  },
  {
   "cell_type": "code",
   "execution_count": null,
   "id": "763a71fb",
   "metadata": {},
   "outputs": [],
   "source": []
  }
 ],
 "metadata": {
  "kernelspec": {
   "display_name": "Python 3",
   "language": "python",
   "name": "python3"
  },
  "language_info": {
   "codemirror_mode": {
    "name": "ipython",
    "version": 3
   },
   "file_extension": ".py",
   "mimetype": "text/x-python",
   "name": "python",
   "nbconvert_exporter": "python",
   "pygments_lexer": "ipython3",
   "version": "3.8.8"
  }
 },
 "nbformat": 4,
 "nbformat_minor": 5
}
